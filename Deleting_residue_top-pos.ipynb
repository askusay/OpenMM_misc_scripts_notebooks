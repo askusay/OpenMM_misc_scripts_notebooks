{
 "cells": [
  {
   "cell_type": "markdown",
   "metadata": {},
   "source": [
    "## Function which returns topology/positions without selected residue\n",
    "* The indices must include all atoms of the residue to be removed \n",
    "* i.e. [atom.index for atom in ala_topology.atoms() if atom.residue.name == 'ALA']"
   ]
  },
  {
   "cell_type": "code",
   "execution_count": 11,
   "metadata": {},
   "outputs": [],
   "source": [
    "from simtk.openmm.app import *\n",
    "from simtk.openmm import *\n",
    "from simtk.unit import *\n",
    "\n",
    "from openmmtools.testsystems import AlanineDipeptideExplicit"
   ]
  },
  {
   "cell_type": "code",
   "execution_count": 12,
   "metadata": {},
   "outputs": [],
   "source": [
    "# Using Alanine dipeptide system\n",
    "alanine = AlanineDipeptideExplicit()\n",
    "ala_system, ala_positions, ala_topology = alanine.system, alanine.positions,  alanine.topology\n",
    "ala_residue = [residue for residue in ala_topology.residues() if residue.name == 'ALA']"
   ]
  },
  {
   "cell_type": "code",
   "execution_count": 13,
   "metadata": {},
   "outputs": [],
   "source": [
    "forcefield = ForceField('amber99sb.xml','tip3p.xml')"
   ]
  },
  {
   "cell_type": "code",
   "execution_count": 21,
   "metadata": {},
   "outputs": [],
   "source": [
    "def remove_residue_top(topology,replace_residue):\n",
    "    \"\"\"Copy topology information while excluding a selected residue\"\"\"\n",
    "    \n",
    "    assert len(replace_residue) == 1, 'Must specify a single residue'\n",
    "    \n",
    "    # Create empty topology\n",
    "    new_topology = Topology()\n",
    "    \n",
    "    for chain in topology.chains():\n",
    "        new_chain = new_topology.addChain(chain)\n",
    "        for residue in chain.residues():      \n",
    "            if residue == replace_residue[0]:\n",
    "                # skip residue\n",
    "                pass\n",
    "            else:\n",
    "                new_residue = new_topology.addResidue(residue.name,new_chain)\n",
    "                for atom in residue.atoms():\n",
    "                    new_topology.addAtom(atom.name, atom.element, new_residue)\n",
    "    \n",
    "    # Create standard bonds\n",
    "    new_topology.createStandardBonds()\n",
    "        \n",
    "    return new_topology"
   ]
  },
  {
   "cell_type": "code",
   "execution_count": 22,
   "metadata": {},
   "outputs": [],
   "source": [
    "def remove_residue_pos(topology,positions,replace_residue):\n",
    "    \"\"\"Copy positions while excluding select atomic indices (replace_indices)\"\"\"\n",
    "    \n",
    "    residue_atoms = [atom.index for atom in replace_residue[0].atoms()]\n",
    "    assert len(residue_atoms) > 0, 'Residue indicies empty is empty'\n",
    "    \n",
    "    # Create empty list \n",
    "    new_positions = Quantity(unit=nanometer)\n",
    "    \n",
    "    # Append positions to new position list\n",
    "    for position, atom in zip(positions,topology.atoms()):\n",
    "        if atom.index in residue_atoms:\n",
    "            pass\n",
    "        else:\n",
    "            new_positions.append(position)\n",
    "            \n",
    "    return new_positions"
   ]
  },
  {
   "cell_type": "code",
   "execution_count": 23,
   "metadata": {},
   "outputs": [],
   "source": [
    "topology = remove_residue_top(ala_topology,ala_residue)\n",
    "positions = remove_residue_pos(ala_topology,ala_positions,ala_residue)"
   ]
  },
  {
   "cell_type": "code",
   "execution_count": 26,
   "metadata": {},
   "outputs": [
    {
     "data": {
      "text/plain": [
       "<Topology; 1 chains, 751 residues, 2259 atoms, 1509 bonds>"
      ]
     },
     "execution_count": 26,
     "metadata": {},
     "output_type": "execute_result"
    }
   ],
   "source": [
    "topology"
   ]
  },
  {
   "cell_type": "code",
   "execution_count": 8,
   "metadata": {},
   "outputs": [],
   "source": [
    "# testing if the system is stable\n",
    "system = forcefield.createSystem(topology)\n",
    "integrator = LangevinIntegrator(300*kelvin,1/picoseconds,0.001*picoseconds)\n",
    "\n",
    "simulation = Simulation(topology,system,integrator)\n",
    "\n",
    "simulation.context.setPositions(positions)"
   ]
  },
  {
   "cell_type": "code",
   "execution_count": 9,
   "metadata": {},
   "outputs": [],
   "source": [
    "simulation.minimizeEnergy()"
   ]
  },
  {
   "cell_type": "code",
   "execution_count": 75,
   "metadata": {},
   "outputs": [],
   "source": [
    "simulation.reporters.append(PDBReporter('stability_test.pdb',100))"
   ]
  },
  {
   "cell_type": "code",
   "execution_count": 76,
   "metadata": {},
   "outputs": [],
   "source": [
    "simulation.step(1000)"
   ]
  },
  {
   "cell_type": "markdown",
   "metadata": {},
   "source": [
    "### This can be done far more easily by writing a PDB file and remove the residue i.e. through MDtraj"
   ]
  },
  {
   "cell_type": "code",
   "execution_count": 10,
   "metadata": {},
   "outputs": [],
   "source": [
    "PDBFile.writeFile(ala_topology,ala_positions,open('ACE-ALA-NME_explicit.pdb','w'))"
   ]
  },
  {
   "cell_type": "code",
   "execution_count": 11,
   "metadata": {},
   "outputs": [],
   "source": [
    "import mdtraj as md"
   ]
  },
  {
   "cell_type": "code",
   "execution_count": 12,
   "metadata": {},
   "outputs": [],
   "source": [
    "pdb = md.load_pdb('ACE-ALA-NME_explicit.pdb')"
   ]
  },
  {
   "cell_type": "code",
   "execution_count": 13,
   "metadata": {},
   "outputs": [],
   "source": [
    "md_alanine = [atom.index for atom in pdb.topology.atoms if atom.residue.name != 'ALA']"
   ]
  },
  {
   "cell_type": "code",
   "execution_count": 14,
   "metadata": {},
   "outputs": [],
   "source": [
    "new_pdb = pdb.atom_slice(md_alanine)"
   ]
  },
  {
   "cell_type": "code",
   "execution_count": 15,
   "metadata": {},
   "outputs": [],
   "source": [
    "new_pdb.save('ACE-NME_explicit.pdb')"
   ]
  },
  {
   "cell_type": "code",
   "execution_count": null,
   "metadata": {},
   "outputs": [],
   "source": []
  },
  {
   "cell_type": "code",
   "execution_count": null,
   "metadata": {},
   "outputs": [],
   "source": []
  }
 ],
 "metadata": {
  "kernelspec": {
   "display_name": "Python 3",
   "language": "python",
   "name": "python3"
  },
  "language_info": {
   "codemirror_mode": {
    "name": "ipython",
    "version": 3
   },
   "file_extension": ".py",
   "mimetype": "text/x-python",
   "name": "python",
   "nbconvert_exporter": "python",
   "pygments_lexer": "ipython3",
   "version": "3.7.3"
  }
 },
 "nbformat": 4,
 "nbformat_minor": 2
}
